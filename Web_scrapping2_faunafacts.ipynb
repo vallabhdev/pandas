{
 "cells": [
  {
   "cell_type": "code",
   "execution_count": 1,
   "id": "c4fdb4d2",
   "metadata": {},
   "outputs": [],
   "source": [
    "import pandas as pd\n",
    "import requests as req\n",
    "import re\n",
    "\n",
    "from bs4 import BeautifulSoup\n"
   ]
  },
  {
   "cell_type": "code",
   "execution_count": 2,
   "id": "a7f8b394",
   "metadata": {},
   "outputs": [],
   "source": [
    "wildlife_url = 'https://faunafacts.com/endangered-species/'"
   ]
  },
  {
   "cell_type": "code",
   "execution_count": 3,
   "id": "b0f21ed6",
   "metadata": {},
   "outputs": [
    {
     "data": {
      "text/plain": [
       "200"
      ]
     },
     "execution_count": 3,
     "metadata": {},
     "output_type": "execute_result"
    }
   ],
   "source": [
    "resp_data = req.get(wildlife_url)\n",
    "resp_data.status_code"
   ]
  },
  {
   "cell_type": "code",
   "execution_count": 4,
   "id": "92fa7107",
   "metadata": {},
   "outputs": [],
   "source": [
    "with open('Wildlife_Species_page.html','w') as f:\n",
    "    f.write(resp_data.text)"
   ]
  },
  {
   "cell_type": "code",
   "execution_count": 5,
   "id": "a3926bf6",
   "metadata": {},
   "outputs": [],
   "source": [
    "doc = BeautifulSoup(resp_data.text, 'html.parser')"
   ]
  },
  {
   "cell_type": "code",
   "execution_count": 6,
   "id": "9785c53c",
   "metadata": {},
   "outputs": [
    {
     "data": {
      "text/plain": [
       "['Orangutans',\n",
       " 'Hawksbill Turtles',\n",
       " 'Gorillas',\n",
       " 'Rhinos',\n",
       " 'Hammerhead Shark',\n",
       " 'Macaws',\n",
       " 'Bumble Bees',\n",
       " 'Sumatran Elephant',\n",
       " 'Sumatran Tiger',\n",
       " 'North Atlantic Right Whales',\n",
       " 'Philippine Crocodile',\n",
       " 'Vaquita Dolphin',\n",
       " 'Peacock Tarantula',\n",
       " 'Red Wolf',\n",
       " 'Northern Hairy-Nosed Wombat',\n",
       " 'Jamaican Iguana',\n",
       " 'Giant Panda']"
      ]
     },
     "execution_count": 6,
     "metadata": {},
     "output_type": "execute_result"
    }
   ],
   "source": [
    "parent_node = doc.find_all('h2',{'class':'uagb-heading-text'})\n",
    "animal_name=[]\n",
    "for i in range(len(parent_node)):\n",
    "    child_node = parent_node[i].find('span' )\n",
    "    child_node = ''.join([i for i in child_node.text if not i.isdigit()])\n",
    "    child_node = child_node.replace(\".\",\"\")\n",
    "    animal_name.append(child_node.strip())\n",
    "\n",
    "\n",
    "animal_name"
   ]
  },
  {
   "cell_type": "code",
   "execution_count": 7,
   "id": "b055a60f",
   "metadata": {},
   "outputs": [
    {
     "name": "stdout",
     "output_type": "stream",
     "text": [
      "['Pongo', 'Eretmochelys imbricata', 'Gorilla gorilla, Gorilla beringei', 'Rhinoceros sondaicus, Dicerorhinus sumatrensis, Diceros bicornis', 'Sphyrnidae', 'Anodorhynchus glaucus, Ara glaucogularis, Ara ambiguus', 'Bombus', 'Elephas maximus sumatrensis', 'Panthera tigris sondaica', 'Eubalaena glacialis', 'Crocodylus mindorensis', 'Poecilotheria metallica', 'Canis lupus rufus', 'Lasiorhinus krefftii', 'Cyclura collei', 'Ailuropoda melanoleuca']\n"
     ]
    }
   ],
   "source": [
    "other = doc.find_all('td',{'class':'has-text-align-right'})\n",
    "\n",
    "sci_name=[]\n",
    "con_status=[]\n",
    "Range=[]\n",
    "population=[]\n",
    "threats=[]\n",
    "\n",
    "\n",
    "for i in range(0,len(other),5):\n",
    "    sci_name.append(other[i].find_next('td').text)\n",
    "print(sci_name)\n"
   ]
  },
  {
   "cell_type": "code",
   "execution_count": 8,
   "id": "b9edab6c",
   "metadata": {},
   "outputs": [
    {
     "name": "stdout",
     "output_type": "stream",
     "text": [
      "['Critically Endangered', 'Critically Endangered', 'Critically Endangered', 'Critically Endangered', 'Critically Endangered', 'Critically Endangered', 'Critically Endangered', 'Critically Endangered', 'Critically Endangered', 'Critically Endangered', 'Critically Endangered', 'Critically Endangered', 'Critically Endangered', 'Critically Endangered', 'Critically Endangered', 'Vulnerable']\n"
     ]
    }
   ],
   "source": [
    "for i in range(1,len(other),5):\n",
    "    con_status.append(other[i].find_next('td').text)\n",
    "print(con_status)"
   ]
  },
  {
   "cell_type": "code",
   "execution_count": 9,
   "id": "c5897999",
   "metadata": {},
   "outputs": [
    {
     "data": {
      "text/plain": [
       "'Vaquita Dolphin'"
      ]
     },
     "execution_count": 9,
     "metadata": {},
     "output_type": "execute_result"
    }
   ],
   "source": [
    "for i in range(2,len(other),5):\n",
    "    Range.append(other[i].find_next('td').text)\n",
    "\n",
    "for i in range(3,len(other),5):\n",
    "    population.append(other[i].find_next('td').text)\n",
    "\n",
    "for i in range(4,len(other),5):\n",
    "    threats.append(other[i].find_next('td').text)\n",
    "\n",
    "animal_name.pop(11)\n"
   ]
  },
  {
   "cell_type": "code",
   "execution_count": 10,
   "id": "f7e45257",
   "metadata": {},
   "outputs": [],
   "source": [
    "\n",
    "data = {'Animal_name': animal_name, 'Scientific_name': sci_name, 'Status': con_status , 'Places': Range, \n",
    "        'Population':population, 'Factor':threats}  \n",
    "       \n",
    "df = pd.DataFrame(data) \n",
    "    \n",
    "df.to_csv('Animal.csv')\n"
   ]
  },
  {
   "cell_type": "code",
   "execution_count": null,
   "id": "4af830a5",
   "metadata": {},
   "outputs": [],
   "source": []
  }
 ],
 "metadata": {
  "kernelspec": {
   "display_name": "Python 3 (ipykernel)",
   "language": "python",
   "name": "python3"
  },
  "language_info": {
   "codemirror_mode": {
    "name": "ipython",
    "version": 3
   },
   "file_extension": ".py",
   "mimetype": "text/x-python",
   "name": "python",
   "nbconvert_exporter": "python",
   "pygments_lexer": "ipython3",
   "version": "3.9.7"
  }
 },
 "nbformat": 4,
 "nbformat_minor": 5
}
