{
 "cells": [
  {
   "cell_type": "code",
   "execution_count": 62,
   "id": "53562921",
   "metadata": {},
   "outputs": [],
   "source": [
    "import pandas as pd\n",
    "import os\n",
    "import numpy as np\n",
    "\n",
    "\n",
    "\n"
   ]
  },
  {
   "cell_type": "code",
   "execution_count": 63,
   "id": "e17f02b0",
   "metadata": {},
   "outputs": [],
   "source": [
    "raw_files = os.listdir(\"D:\\College_Loyalist\\AISC1006 - 01_Step_Presentatio\\Project\\csv data\\ourworldindata\")\n",
    "r = raw_files[0]\n"
   ]
  },
  {
   "cell_type": "code",
   "execution_count": 71,
   "id": "1230e128",
   "metadata": {},
   "outputs": [
    {
     "data": {
      "text/plain": [
       "['african-elephants.csv',\n",
       " 'black-rhinos.csv',\n",
       " 'indian-rhinos.csv',\n",
       " 'javan-rhinos.csv',\n",
       " 'northern-white-rhinos.csv',\n",
       " 'number-of-asian-elephants.csv',\n",
       " 'southern-white-rhinos.csv',\n",
       " 'sumatran-rhinos.csv']"
      ]
     },
     "execution_count": 71,
     "metadata": {},
     "output_type": "execute_result"
    }
   ],
   "source": [
    "raw_files"
   ]
  },
  {
   "cell_type": "code",
   "execution_count": 64,
   "id": "126f0232",
   "metadata": {},
   "outputs": [
    {
     "name": "stdout",
     "output_type": "stream",
     "text": [
      "            Entity Code  Year  African Elephant population (AfESG, 2019)\n",
      "0           Africa  NaN  1500                                   26000000\n",
      "1           Africa  NaN  1913                                   10000000\n",
      "2           Africa  NaN  1979                                    1300000\n",
      "3           Africa  NaN  1995                                     286233\n",
      "4           Africa  NaN  1998                                     301733\n",
      "..             ...  ...   ...                                        ...\n",
      "87  Western Africa  NaN  2015                                      11489\n",
      "88          Zambia  ZMB  2007                                      16562\n",
      "89          Zambia  ZMB  2015                                      21967\n",
      "90        Zimbabwe  ZWE  2007                                      84416\n",
      "91        Zimbabwe  ZWE  2015                                      82630\n",
      "\n",
      "[92 rows x 4 columns]\n"
     ]
    }
   ],
   "source": [
    "df = pd.read_csv(r)\n",
    "print(df)  \n"
   ]
  },
  {
   "cell_type": "code",
   "execution_count": 72,
   "id": "b874623d",
   "metadata": {},
   "outputs": [
    {
     "name": "stdout",
     "output_type": "stream",
     "text": [
      "Entity\n"
     ]
    }
   ],
   "source": [
    "c = df.columns\n",
    "print(c[0])"
   ]
  },
  {
   "cell_type": "code",
   "execution_count": 66,
   "id": "8cc74125",
   "metadata": {},
   "outputs": [],
   "source": [
    "clean_df = df.dropna(axis = 1)"
   ]
  },
  {
   "cell_type": "code",
   "execution_count": 67,
   "id": "cbac37f9",
   "metadata": {},
   "outputs": [
    {
     "name": "stdout",
     "output_type": "stream",
     "text": [
      "            Entity  Year  African Elephant population (AfESG, 2019)\n",
      "0           Africa  1500                                   26000000\n",
      "1           Africa  1913                                   10000000\n",
      "2           Africa  1979                                    1300000\n",
      "3           Africa  1995                                     286233\n",
      "4           Africa  1998                                     301733\n",
      "..             ...   ...                                        ...\n",
      "87  Western Africa  2015                                      11489\n",
      "88          Zambia  2007                                      16562\n",
      "89          Zambia  2015                                      21967\n",
      "90        Zimbabwe  2007                                      84416\n",
      "91        Zimbabwe  2015                                      82630\n",
      "\n",
      "[92 rows x 3 columns]\n"
     ]
    }
   ],
   "source": [
    "print(clean_df)"
   ]
  },
  {
   "cell_type": "code",
   "execution_count": 68,
   "id": "64913fa8",
   "metadata": {
    "scrolled": true
   },
   "outputs": [
    {
     "name": "stderr",
     "output_type": "stream",
     "text": [
      "C:\\Users\\ravic\\AppData\\Local\\Packages\\PythonSoftwareFoundation.Python.3.9_qbz5n2kfra8p0\\LocalCache\\local-packages\\Python39\\site-packages\\pandas\\core\\frame.py:5039: SettingWithCopyWarning: \n",
      "A value is trying to be set on a copy of a slice from a DataFrame\n",
      "\n",
      "See the caveats in the documentation: https://pandas.pydata.org/pandas-docs/stable/user_guide/indexing.html#returning-a-view-versus-a-copy\n",
      "  return super().rename(\n"
     ]
    },
    {
     "data": {
      "text/html": [
       "<div>\n",
       "<style scoped>\n",
       "    .dataframe tbody tr th:only-of-type {\n",
       "        vertical-align: middle;\n",
       "    }\n",
       "\n",
       "    .dataframe tbody tr th {\n",
       "        vertical-align: top;\n",
       "    }\n",
       "\n",
       "    .dataframe thead th {\n",
       "        text-align: right;\n",
       "    }\n",
       "</style>\n",
       "<table border=\"1\" class=\"dataframe\">\n",
       "  <thead>\n",
       "    <tr style=\"text-align: right;\">\n",
       "      <th></th>\n",
       "      <th>Country</th>\n",
       "      <th>Year</th>\n",
       "      <th>Population</th>\n",
       "    </tr>\n",
       "  </thead>\n",
       "  <tbody>\n",
       "    <tr>\n",
       "      <th>0</th>\n",
       "      <td>Africa</td>\n",
       "      <td>1500</td>\n",
       "      <td>26000000</td>\n",
       "    </tr>\n",
       "    <tr>\n",
       "      <th>1</th>\n",
       "      <td>Africa</td>\n",
       "      <td>1913</td>\n",
       "      <td>10000000</td>\n",
       "    </tr>\n",
       "    <tr>\n",
       "      <th>2</th>\n",
       "      <td>Africa</td>\n",
       "      <td>1979</td>\n",
       "      <td>1300000</td>\n",
       "    </tr>\n",
       "    <tr>\n",
       "      <th>3</th>\n",
       "      <td>Africa</td>\n",
       "      <td>1995</td>\n",
       "      <td>286233</td>\n",
       "    </tr>\n",
       "    <tr>\n",
       "      <th>4</th>\n",
       "      <td>Africa</td>\n",
       "      <td>1998</td>\n",
       "      <td>301733</td>\n",
       "    </tr>\n",
       "    <tr>\n",
       "      <th>...</th>\n",
       "      <td>...</td>\n",
       "      <td>...</td>\n",
       "      <td>...</td>\n",
       "    </tr>\n",
       "    <tr>\n",
       "      <th>87</th>\n",
       "      <td>Western Africa</td>\n",
       "      <td>2015</td>\n",
       "      <td>11489</td>\n",
       "    </tr>\n",
       "    <tr>\n",
       "      <th>88</th>\n",
       "      <td>Zambia</td>\n",
       "      <td>2007</td>\n",
       "      <td>16562</td>\n",
       "    </tr>\n",
       "    <tr>\n",
       "      <th>89</th>\n",
       "      <td>Zambia</td>\n",
       "      <td>2015</td>\n",
       "      <td>21967</td>\n",
       "    </tr>\n",
       "    <tr>\n",
       "      <th>90</th>\n",
       "      <td>Zimbabwe</td>\n",
       "      <td>2007</td>\n",
       "      <td>84416</td>\n",
       "    </tr>\n",
       "    <tr>\n",
       "      <th>91</th>\n",
       "      <td>Zimbabwe</td>\n",
       "      <td>2015</td>\n",
       "      <td>82630</td>\n",
       "    </tr>\n",
       "  </tbody>\n",
       "</table>\n",
       "<p>92 rows × 3 columns</p>\n",
       "</div>"
      ],
      "text/plain": [
       "           Country  Year  Population\n",
       "0           Africa  1500    26000000\n",
       "1           Africa  1913    10000000\n",
       "2           Africa  1979     1300000\n",
       "3           Africa  1995      286233\n",
       "4           Africa  1998      301733\n",
       "..             ...   ...         ...\n",
       "87  Western Africa  2015       11489\n",
       "88          Zambia  2007       16562\n",
       "89          Zambia  2015       21967\n",
       "90        Zimbabwe  2007       84416\n",
       "91        Zimbabwe  2015       82630\n",
       "\n",
       "[92 rows x 3 columns]"
      ]
     },
     "execution_count": 68,
     "metadata": {},
     "output_type": "execute_result"
    }
   ],
   "source": [
    "clean_df.rename(columns = {\"Entity\":'Country', \"African Elephant population (AfESG, 2019)\":\"Population\"}, inplace=True)\n",
    "clean_df"
   ]
  },
  {
   "cell_type": "code",
   "execution_count": 69,
   "id": "861c4e91",
   "metadata": {},
   "outputs": [
    {
     "data": {
      "text/html": [
       "<div>\n",
       "<style scoped>\n",
       "    .dataframe tbody tr th:only-of-type {\n",
       "        vertical-align: middle;\n",
       "    }\n",
       "\n",
       "    .dataframe tbody tr th {\n",
       "        vertical-align: top;\n",
       "    }\n",
       "\n",
       "    .dataframe thead th {\n",
       "        text-align: right;\n",
       "    }\n",
       "</style>\n",
       "<table border=\"1\" class=\"dataframe\">\n",
       "  <thead>\n",
       "    <tr style=\"text-align: right;\">\n",
       "      <th></th>\n",
       "      <th>Country</th>\n",
       "      <th>Year</th>\n",
       "      <th>Population</th>\n",
       "      <th>Animal</th>\n",
       "    </tr>\n",
       "  </thead>\n",
       "  <tbody>\n",
       "    <tr>\n",
       "      <th>0</th>\n",
       "      <td>Africa</td>\n",
       "      <td>1500</td>\n",
       "      <td>26000000</td>\n",
       "      <td>Elephant</td>\n",
       "    </tr>\n",
       "    <tr>\n",
       "      <th>1</th>\n",
       "      <td>Africa</td>\n",
       "      <td>1913</td>\n",
       "      <td>10000000</td>\n",
       "      <td>Elephant</td>\n",
       "    </tr>\n",
       "    <tr>\n",
       "      <th>2</th>\n",
       "      <td>Africa</td>\n",
       "      <td>1979</td>\n",
       "      <td>1300000</td>\n",
       "      <td>Elephant</td>\n",
       "    </tr>\n",
       "    <tr>\n",
       "      <th>3</th>\n",
       "      <td>Africa</td>\n",
       "      <td>1995</td>\n",
       "      <td>286233</td>\n",
       "      <td>Elephant</td>\n",
       "    </tr>\n",
       "    <tr>\n",
       "      <th>4</th>\n",
       "      <td>Africa</td>\n",
       "      <td>1998</td>\n",
       "      <td>301733</td>\n",
       "      <td>Elephant</td>\n",
       "    </tr>\n",
       "    <tr>\n",
       "      <th>...</th>\n",
       "      <td>...</td>\n",
       "      <td>...</td>\n",
       "      <td>...</td>\n",
       "      <td>...</td>\n",
       "    </tr>\n",
       "    <tr>\n",
       "      <th>87</th>\n",
       "      <td>Western Africa</td>\n",
       "      <td>2015</td>\n",
       "      <td>11489</td>\n",
       "      <td>Elephant</td>\n",
       "    </tr>\n",
       "    <tr>\n",
       "      <th>88</th>\n",
       "      <td>Zambia</td>\n",
       "      <td>2007</td>\n",
       "      <td>16562</td>\n",
       "      <td>Elephant</td>\n",
       "    </tr>\n",
       "    <tr>\n",
       "      <th>89</th>\n",
       "      <td>Zambia</td>\n",
       "      <td>2015</td>\n",
       "      <td>21967</td>\n",
       "      <td>Elephant</td>\n",
       "    </tr>\n",
       "    <tr>\n",
       "      <th>90</th>\n",
       "      <td>Zimbabwe</td>\n",
       "      <td>2007</td>\n",
       "      <td>84416</td>\n",
       "      <td>Elephant</td>\n",
       "    </tr>\n",
       "    <tr>\n",
       "      <th>91</th>\n",
       "      <td>Zimbabwe</td>\n",
       "      <td>2015</td>\n",
       "      <td>82630</td>\n",
       "      <td>Elephant</td>\n",
       "    </tr>\n",
       "  </tbody>\n",
       "</table>\n",
       "<p>92 rows × 4 columns</p>\n",
       "</div>"
      ],
      "text/plain": [
       "           Country  Year  Population    Animal\n",
       "0           Africa  1500    26000000  Elephant\n",
       "1           Africa  1913    10000000  Elephant\n",
       "2           Africa  1979     1300000  Elephant\n",
       "3           Africa  1995      286233  Elephant\n",
       "4           Africa  1998      301733  Elephant\n",
       "..             ...   ...         ...       ...\n",
       "87  Western Africa  2015       11489  Elephant\n",
       "88          Zambia  2007       16562  Elephant\n",
       "89          Zambia  2015       21967  Elephant\n",
       "90        Zimbabwe  2007       84416  Elephant\n",
       "91        Zimbabwe  2015       82630  Elephant\n",
       "\n",
       "[92 rows x 4 columns]"
      ]
     },
     "execution_count": 69,
     "metadata": {},
     "output_type": "execute_result"
    }
   ],
   "source": [
    "clean_df[\"Animal\"] = \"Elephant\"\n",
    "clean_df"
   ]
  },
  {
   "cell_type": "code",
   "execution_count": null,
   "id": "1a53fc96",
   "metadata": {},
   "outputs": [],
   "source": []
  }
 ],
 "metadata": {
  "kernelspec": {
   "display_name": "Python 3 (ipykernel)",
   "language": "python",
   "name": "python3"
  },
  "language_info": {
   "codemirror_mode": {
    "name": "ipython",
    "version": 3
   },
   "file_extension": ".py",
   "mimetype": "text/x-python",
   "name": "python",
   "nbconvert_exporter": "python",
   "pygments_lexer": "ipython3",
   "version": "3.9.7"
  }
 },
 "nbformat": 4,
 "nbformat_minor": 5
}
