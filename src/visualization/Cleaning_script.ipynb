{
 "cells": [
  {
   "cell_type": "code",
   "execution_count": 1,
   "id": "ca3b0a3f",
   "metadata": {},
   "outputs": [
    {
     "name": "stdout",
     "output_type": "stream",
     "text": [
      "D:\\College_Loyalist\\AISC1006 - 01_Step_Presentatio\\Project\\csv data\\ourworldindata\n",
      "D:\\College_Loyalist\\AISC1006 - 01_Step_Presentatio\\Project\\csv data\\ourworldindata\\elephants_1646968943.780594.csv\n",
      "D:\\College_Loyalist\\AISC1006 - 01_Step_Presentatio\\Project\\csv data\\ourworldindata\n",
      "D:\\College_Loyalist\\AISC1006 - 01_Step_Presentatio\\Project\\csv data\\ourworldindata\\rhinos_1646968943.786639.csv\n",
      "D:\\College_Loyalist\\AISC1006 - 01_Step_Presentatio\\Project\\csv data\\ourworldindata\n",
      "D:\\College_Loyalist\\AISC1006 - 01_Step_Presentatio\\Project\\csv data\\ourworldindata\\rhinos_1646968943.790656.csv\n",
      "D:\\College_Loyalist\\AISC1006 - 01_Step_Presentatio\\Project\\csv data\\ourworldindata\n",
      "D:\\College_Loyalist\\AISC1006 - 01_Step_Presentatio\\Project\\csv data\\ourworldindata\\rhinos_1646968943.795595.csv\n",
      "D:\\College_Loyalist\\AISC1006 - 01_Step_Presentatio\\Project\\csv data\\ourworldindata\n",
      "D:\\College_Loyalist\\AISC1006 - 01_Step_Presentatio\\Project\\csv data\\ourworldindata\\rhinos_1646968943.800858.csv\n",
      "D:\\College_Loyalist\\AISC1006 - 01_Step_Presentatio\\Project\\csv data\\ourworldindata\n",
      "D:\\College_Loyalist\\AISC1006 - 01_Step_Presentatio\\Project\\csv data\\ourworldindata\\elephants_1646968943.8066.csv\n",
      "D:\\College_Loyalist\\AISC1006 - 01_Step_Presentatio\\Project\\csv data\\ourworldindata\n",
      "D:\\College_Loyalist\\AISC1006 - 01_Step_Presentatio\\Project\\csv data\\ourworldindata\\rhinos_1646968943.822397.csv\n",
      "D:\\College_Loyalist\\AISC1006 - 01_Step_Presentatio\\Project\\csv data\\ourworldindata\n",
      "D:\\College_Loyalist\\AISC1006 - 01_Step_Presentatio\\Project\\csv data\\ourworldindata\\rhinos_1646968943.827408.csv\n"
     ]
    },
    {
     "name": "stderr",
     "output_type": "stream",
     "text": [
      "C:\\Users\\ravic\\AppData\\Local\\Temp\\ipykernel_50720\\1918822469.py:19: SettingWithCopyWarning: \n",
      "A value is trying to be set on a copy of a slice from a DataFrame\n",
      "\n",
      "See the caveats in the documentation: https://pandas.pydata.org/pandas-docs/stable/user_guide/indexing.html#returning-a-view-versus-a-copy\n",
      "  clean_df.rename(columns = {c[0] : \"Country\", c[3]:\"Population\"}, inplace=True)\n",
      "C:\\Users\\ravic\\AppData\\Local\\Temp\\ipykernel_50720\\1918822469.py:19: SettingWithCopyWarning: \n",
      "A value is trying to be set on a copy of a slice from a DataFrame\n",
      "\n",
      "See the caveats in the documentation: https://pandas.pydata.org/pandas-docs/stable/user_guide/indexing.html#returning-a-view-versus-a-copy\n",
      "  clean_df.rename(columns = {c[0] : \"Country\", c[3]:\"Population\"}, inplace=True)\n"
     ]
    }
   ],
   "source": [
    "import pandas as pd\n",
    "import os\n",
    "import numpy as np\n",
    "from datetime import datetime\n",
    "\n",
    "\n",
    "raw_files = os.listdir(\"D:\\College_Loyalist\\AISC1006 - 01_Step_Presentatio\\Project\\csv data\\ourworldindata\")\n",
    "raw_files\n",
    "\n",
    "# print(df)  \n",
    "j = 0\n",
    "for ele in raw_files:\n",
    "    df = pd.read_csv(r'D:\\College_Loyalist\\AISC1006 - 01_Step_Presentatio\\Project\\csv data\\ourworldindata\\\\'+ele)\n",
    "    c = df.columns\n",
    "    i = ele.replace(\".csv\", \"\")\n",
    "    new = i.split(\"-\")[-1]\n",
    "#     print(new)\n",
    "    clean_df = df.dropna(axis = 1)\n",
    "    clean_df.rename(columns = {c[0] : \"Country\", c[3]:\"Population\"}, inplace=True)\n",
    "    clean_df[\"Animal\"] = new\n",
    "    path = r'D:\\College_Loyalist\\AISC1006 - 01_Step_Presentatio\\Project\\csv data\\ourworldindata'\n",
    "    print(path)\n",
    "    j = datetime.timestamp(datetime.now())\n",
    "    j = str(j)\n",
    "    name = path + \"\\\\\" + new +\"_\"+str(j)+\".csv\"\n",
    "    print(name)\n",
    "    clean_df.to_csv(name, index = False)\n",
    "    "
   ]
  },
  {
   "cell_type": "code",
   "execution_count": null,
   "id": "1851790d",
   "metadata": {},
   "outputs": [],
   "source": []
  }
 ],
 "metadata": {
  "kernelspec": {
   "display_name": "Python 3 (ipykernel)",
   "language": "python",
   "name": "python3"
  },
  "language_info": {
   "codemirror_mode": {
    "name": "ipython",
    "version": 3
   },
   "file_extension": ".py",
   "mimetype": "text/x-python",
   "name": "python",
   "nbconvert_exporter": "python",
   "pygments_lexer": "ipython3",
   "version": "3.9.7"
  }
 },
 "nbformat": 4,
 "nbformat_minor": 5
}
